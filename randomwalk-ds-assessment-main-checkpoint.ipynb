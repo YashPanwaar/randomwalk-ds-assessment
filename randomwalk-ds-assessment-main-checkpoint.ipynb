{
 "cells": [
  {
   "cell_type": "code",
   "execution_count": 3,
   "id": "42074543",
   "metadata": {},
   "outputs": [],
   "source": [
    "import pandas as pd\n",
    "import numpy as np\n",
    "import matplotlib.pyplot as plt\n",
    "\n",
    "# Load the dataset\n",
    "file_path = 'D:\\\\aaaaaaaaa\\\\randomwalk-ds-assessment-main\\\\books.csv'\n",
    "\n",
    "books_df = pd.read_csv(file_path)"
   ]
  },
  {
   "cell_type": "markdown",
   "id": "93a17497",
   "metadata": {},
   "source": [
    "Q1: Number of rows and columns\n",
    "\n"
   ]
  },
  {
   "cell_type": "code",
   "execution_count": 13,
   "id": "f829f548",
   "metadata": {},
   "outputs": [
    {
     "name": "stdout",
     "output_type": "stream",
     "text": [
      "Number of Rows: 399, Number of Columns: 24\n"
     ]
    }
   ],
   "source": [
    "num_rows, num_columns = books_df.shape\n",
    "print(f\"Number of Rows: {num_rows}, Number of Columns: {num_columns}\")"
   ]
  },
  {
   "cell_type": "markdown",
   "id": "0f538c09",
   "metadata": {},
   "source": [
    "Q2: Number of books without an original title"
   ]
  },
  {
   "cell_type": "code",
   "execution_count": 14,
   "id": "3ae053c4",
   "metadata": {},
   "outputs": [
    {
     "name": "stdout",
     "output_type": "stream",
     "text": [
      "Number of Books Without an Original Title: 36\n"
     ]
    }
   ],
   "source": [
    "books_no_original_title = books_df['original_title'].isna().sum()\n",
    "print(f\"Number of Books Without an Original Title: {books_no_original_title}\")"
   ]
  },
  {
   "cell_type": "markdown",
   "id": "40317db9",
   "metadata": {},
   "source": [
    "Q3: Number of unique books after removing null values in original_title"
   ]
  },
  {
   "cell_type": "code",
   "execution_count": 15,
   "id": "a4b9e935",
   "metadata": {},
   "outputs": [
    {
     "name": "stdout",
     "output_type": "stream",
     "text": [
      "Number of Unique Books: 363\n"
     ]
    }
   ],
   "source": [
    "unique_books = books_df[books_df['original_title'].notna()]['book_id'].nunique()\n",
    "print(f\"Number of Unique Books: {unique_books}\")"
   ]
  },
  {
   "cell_type": "markdown",
   "id": "474af89f",
   "metadata": {},
   "source": [
    "Q4: Average rating of all books"
   ]
  },
  {
   "cell_type": "code",
   "execution_count": 16,
   "id": "c1af57bf",
   "metadata": {},
   "outputs": [
    {
     "name": "stdout",
     "output_type": "stream",
     "text": [
      "Average Rating of All Books: 3.98\n"
     ]
    }
   ],
   "source": [
    "average_rating = books_df['average_rating'].mean()\n",
    "print(f\"Average Rating of All Books: {average_rating:.2f}\")"
   ]
  },
  {
   "cell_type": "markdown",
   "id": "49d57c52",
   "metadata": {},
   "source": [
    "Q5: Number of books published in the year 2000"
   ]
  },
  {
   "cell_type": "code",
   "execution_count": 17,
   "id": "cd9ff211",
   "metadata": {},
   "outputs": [
    {
     "name": "stdout",
     "output_type": "stream",
     "text": [
      "Number of Books Published in 2000: 8\n"
     ]
    }
   ],
   "source": [
    "books_published_2000 = books_df[books_df['original_publication_year'] == 2000].shape[0]\n",
    "print(f\"Number of Books Published in 2000: {books_published_2000}\")"
   ]
  },
  {
   "cell_type": "markdown",
   "id": "6cea7a03",
   "metadata": {},
   "source": [
    "Q6: Book title with the maximum number of ratings"
   ]
  },
  {
   "cell_type": "code",
   "execution_count": 18,
   "id": "3772fa85",
   "metadata": {},
   "outputs": [
    {
     "name": "stdout",
     "output_type": "stream",
     "text": [
      "Book with Maximum Number of Ratings: Het Achterhuis: Dagboekbrieven 14 juni 1942 - 1 augustus 1944\n"
     ]
    }
   ],
   "source": [
    "max_ratings_book = books_df.loc[books_df['work_ratings_count'].idxmax()]['original_title']\n",
    "print(f\"Book with Maximum Number of Ratings: {max_ratings_book}\")"
   ]
  },
  {
   "cell_type": "markdown",
   "id": "e13e66db",
   "metadata": {},
   "source": [
    "Q7: Bucketing average ratings and plotting"
   ]
  },
  {
   "cell_type": "code",
   "execution_count": 19,
   "id": "b23b3ea4",
   "metadata": {},
   "outputs": [
    {
     "data": {
      "image/png": "[encoded data removed]",
      "text/plain": [
       "<Figure size 720x432 with 1 Axes>"
      ]
     },
     "metadata": {
      "needs_background": "light"
     },
     "output_type": "display_data"
    }
   ],
   "source": [
    "rating_buckets = books_df['average_rating'].apply(lambda x: np.floor(x*2)/2)\n",
    "rating_count = rating_buckets.value_counts().sort_index()\n",
    "\n",
    "plt.figure(figsize=(10, 6))\n",
    "rating_count.plot(kind='bar')\n",
    "plt.title('Number of Books per Average Rating Bucket')\n",
    "plt.xlabel('Average Rating Bucket')\n",
    "plt.ylabel('Number of Books')\n",
    "plt.xticks(rotation=45)\n",
    "plt.grid(axis='y')\n",
    "plt.show()"
   ]
  },
  {
   "cell_type": "code",
   "execution_count": null,
   "id": "afd1497e",
   "metadata": {},
   "outputs": [],
   "source": []
  }
 ],
 "metadata": {
  "kernelspec": {
   "display_name": "Python 3 (ipykernel)",
   "language": "python",
   "name": "python3"
  },
  "language_info": {
   "codemirror_mode": {
    "name": "ipython",
    "version": 3
   },
   "file_extension": ".py",
   "mimetype": "text/x-python",
   "name": "python",
   "nbconvert_exporter": "python",
   "pygments_lexer": "ipython3",
   "version": "3.9.7"
  }
 },
 "nbformat": 4,
 "nbformat_minor": 5
}
